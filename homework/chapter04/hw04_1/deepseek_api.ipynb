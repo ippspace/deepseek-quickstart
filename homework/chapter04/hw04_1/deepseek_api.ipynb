{
 "cells": [
  {
   "metadata": {
    "ExecuteTime": {
     "end_time": "2025-06-11T01:25:45.456764Z",
     "start_time": "2025-06-11T01:25:45.280475Z"
    }
   },
   "cell_type": "code",
   "source": "!uv add openai==1.82.0",
   "id": "44d78779-a4ae-4ad1-be13-f7a9aae648a8",
   "outputs": [
    {
     "name": "stdout",
     "output_type": "stream",
     "text": [
      "\u001B[2mResolved \u001B[1m72 packages\u001B[0m \u001B[2min 1ms\u001B[0m\u001B[0m\r\n",
      "\u001B[2mAudited \u001B[1m54 packages\u001B[0m \u001B[2min 0.16ms\u001B[0m\u001B[0m\r\n"
     ]
    }
   ],
   "execution_count": 2
  },
  {
   "cell_type": "code",
   "id": "14dc02a3-4736-45f7-a2da-1978123fac95",
   "metadata": {
    "ExecuteTime": {
     "end_time": "2025-06-11T01:51:00.953830Z",
     "start_time": "2025-06-11T01:51:00.751Z"
    }
   },
   "source": [
    "import os\n",
    "\n",
    "from openai import OpenAI\n",
    "\n",
    "# 从环境变量获取 DeepSeek API Key\n",
    "api_key = os.getenv(\"DEEPSEEK_API_KEY\")\n",
    "if not api_key:\n",
    "    raise ValueError(\"请设置 DEEPSEEK_API_KEY 环境变量\")\n",
    "base_url = os.getenv(\"DEEPSEEK_API_BASE_URL\")\n",
    "if not base_url:\n",
    "    raise ValueError(\"请设置 DEEPSEEK_API_BASE_URL 环境变量\")\n",
    "\n",
    "# 初始化 OpenAI 客户端（假设 DeepSeek 的 API 兼容 OpenAI 格式）\n",
    "client = OpenAI(\n",
    "    api_key=api_key,\n",
    "    base_url=base_url,  # DeepSeek API 的基地址\n",
    ")\n"
   ],
   "outputs": [],
   "execution_count": 1
  },
  {
   "cell_type": "code",
   "id": "428f7ead-142c-4f5c-a57b-d9194b51d725",
   "metadata": {
    "ExecuteTime": {
     "end_time": "2025-06-11T01:52:25.794692Z",
     "start_time": "2025-06-11T01:51:11.810564Z"
    }
   },
   "source": [
    "try:\n",
    "    # 定义提示词\n",
    "    prompt = \"\"\"\n",
    "请帮我用 HTML 生成一个五子棋游戏，所有代码都保存在一个 HTML 中。\n",
    "要求：\n",
    "1. 需要记录并显示双方的步数\n",
    "2. 需要支持悔棋\n",
    "\n",
    "注意：输出的内容只包含完整的 html 代码，不包含其他文本。\"\"\"\n",
    "    # 调用 DeepSeek Chat API\n",
    "    ai_model = os.getenv(\"DEEPSEEK_MODEL\")\n",
    "    if not ai_model:\n",
    "        raise ValueError(\"请设置 DEEPSEEK_MODEL 环境变量\")\n",
    "    response = client.chat.completions.create(\n",
    "        model=ai_model,  # 或 DeepSeek 提供的其他模型名称\n",
    "        messages=[\n",
    "            {\"role\": \"system\", \"content\": \"你是一个专业的 Web 开发助手，擅长用 HTML/CSS/JavaScript 编写游戏。\"},\n",
    "            {\"role\": \"user\", \"content\": prompt}\n",
    "        ],\n",
    "        temperature=0.7,\n",
    "        stream=False\n",
    "    )\n",
    "\n",
    "    # 提取生成的 HTML 内容\n",
    "    if response.choices and len(response.choices) > 0:\n",
    "        html_content = response.choices[0].message.content\n",
    "\n",
    "        file_path = \"gomoku.html\"\n",
    "        # 保存到文件\n",
    "        with open(file_path, \"w\", encoding=\"utf-8\") as f:\n",
    "            f.write(html_content)\n",
    "        print(\"五子棋游戏已保存为 \" + file_path)\n",
    "    else:\n",
    "        print(\"未收到有效响应\")\n",
    "\n",
    "except Exception as e:\n",
    "    print(f\"调用 API 出错: {e}\")"
   ],
   "outputs": [
    {
     "name": "stdout",
     "output_type": "stream",
     "text": [
      "五子棋游戏已保存为 gomoku.html\n"
     ]
    }
   ],
   "execution_count": 2
  }
 ],
 "metadata": {
  "kernelspec": {
   "display_name": "Python 3 (ipykernel)",
   "language": "python",
   "name": "python3"
  },
  "language_info": {
   "codemirror_mode": {
    "name": "ipython",
    "version": 3
   },
   "file_extension": ".py",
   "mimetype": "text/x-python",
   "name": "python",
   "nbconvert_exporter": "python",
   "pygments_lexer": "ipython3",
   "version": "3.13.3"
  }
 },
 "nbformat": 4,
 "nbformat_minor": 5
}
